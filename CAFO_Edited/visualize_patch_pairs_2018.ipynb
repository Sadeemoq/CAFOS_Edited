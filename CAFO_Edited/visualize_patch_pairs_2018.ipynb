{
  "nbformat": 4,
  "nbformat_minor": 0,
  "metadata": {
    "colab": {
      "provenance": []
    },
    "kernelspec": {
      "name": "python3",
      "display_name": "Python 3"
    },
    "language_info": {
      "name": "python"
    }
  },
  "cells": [
    {
      "cell_type": "markdown",
      "source": [
        "matplotlib.pyplot → plot images and masks\n",
        "\n",
        "rasterio → read GeoTIFF images\n",
        "\n",
        "numpy → handle arrays\n",
        "\n",
        "random → select random samples\n",
        "\n",
        "Path → handle file paths cleanly"
      ],
      "metadata": {
        "id": "6ZfUhszFLG1J"
      }
    },
    {
      "cell_type": "code",
      "execution_count": null,
      "metadata": {
        "id": "Sig04yeAK8yc"
      },
      "outputs": [],
      "source": [
        "import matplotlib.pyplot as plt\n",
        "import rasterio\n",
        "import numpy as np\n",
        "import random\n",
        "from pathlib import Path\n"
      ]
    },
    {
      "cell_type": "markdown",
      "source": [
        "Organizes paths and sample size in one place.\n",
        "\n",
        "Creates the output directory for saving visualizations if it doesn’t exist."
      ],
      "metadata": {
        "id": "TE4uk_A_LLxq"
      }
    },
    {
      "cell_type": "code",
      "source": [
        "# Base project directory (update as needed)\n",
        "BASE_PATH = Path(\"/content/cafo_project\")\n",
        "\n",
        "# Directories\n",
        "IMG_DIR = BASE_PATH / \"patches/images\"\n",
        "MASK_DIR = BASE_PATH / \"patches/masks\"\n",
        "OUTPUT_VIS_DIR = BASE_PATH / \"patch_visualizations\"\n",
        "OUTPUT_VIS_DIR.mkdir(parents=True, exist_ok=True)\n",
        "\n",
        "# How many random samples to visualize\n",
        "N_SAMPLES = 5\n"
      ],
      "metadata": {
        "id": "IKqjlfhMLNdI"
      },
      "execution_count": null,
      "outputs": []
    },
    {
      "cell_type": "markdown",
      "source": [
        "Collects all image patch files.\n",
        "\n",
        "Randomly selects a subset to visualize."
      ],
      "metadata": {
        "id": "UTHefiR7LVtR"
      }
    },
    {
      "cell_type": "code",
      "source": [
        "# Get all image patch files\n",
        "image_files = sorted(IMG_DIR.glob(\"*.tif\"))\n",
        "\n",
        "# Randomly select N_SAMPLES patches\n",
        "sample_files = random.sample(image_files, min(N_SAMPLES, len(image_files)))\n"
      ],
      "metadata": {
        "id": "2_GKC6eaLWW8"
      },
      "execution_count": null,
      "outputs": []
    },
    {
      "cell_type": "markdown",
      "source": [
        "Shows the selected image–mask pairs in a grid.\n",
        "\n",
        "Helps visually inspect if patches and masks are aligned."
      ],
      "metadata": {
        "id": "ESZSxIfHLXq2"
      }
    },
    {
      "cell_type": "code",
      "source": [
        "fig, axes = plt.subplots(len(sample_files), 2, figsize=(8, 4 * len(sample_files)))\n",
        "\n",
        "for i, img_path in enumerate(sample_files):\n",
        "    mask_path = MASK_DIR / img_path.name.replace(\".tif\", \"_mask.tif\")\n",
        "\n",
        "    with rasterio.open(img_path) as src:\n",
        "        img = src.read([1, 2, 3]).transpose(1, 2, 0) / 255.0  # Convert to HWC, normalize\n",
        "\n",
        "    with rasterio.open(mask_path) as src:\n",
        "        mask = src.read(1)\n",
        "\n",
        "    axes[i, 0].imshow(img)\n",
        "    axes[i, 0].set_title(f\"Image: {img_path.name}\")\n",
        "    axes[i, 0].axis(\"off\")\n",
        "\n",
        "    axes[i, 1].imshow(mask, cmap=\"gray\")\n",
        "    axes[i, 1].set_title(f\"Mask: {mask_path.name}\")\n",
        "    axes[i, 1].axis(\"off\")\n"
      ],
      "metadata": {
        "id": "kUzoNfQpLZQd"
      },
      "execution_count": null,
      "outputs": []
    },
    {
      "cell_type": "markdown",
      "source": [
        "Saves each random image–mask pair to a PNG file.\n",
        "\n",
        "Can be used for documentation or quick QA checks."
      ],
      "metadata": {
        "id": "_ek8yzANLbd3"
      }
    },
    {
      "cell_type": "code",
      "source": [
        "for img_path in sample_files:\n",
        "    out_path = OUTPUT_VIS_DIR / f\"{img_path.stem}_pair.png\"\n",
        "    fig, axes = plt.subplots(1, 2, figsize=(8, 4))\n",
        "\n",
        "    mask_path = MASK_DIR / img_path.name.replace(\".tif\", \"_mask.tif\")\n",
        "\n",
        "    with rasterio.open(img_path) as src:\n",
        "        img = src.read([1, 2, 3]).transpose(1, 2, 0) / 255.0\n",
        "    with rasterio.open(mask_path) as src:\n",
        "        mask = src.read(1)\n",
        "\n",
        "    axes[0].imshow(img)\n",
        "    axes[0].set_title(\"Image\")\n",
        "    axes[0].axis(\"off\")\n",
        "\n",
        "    axes[1].imshow(mask, cmap=\"gray\")\n",
        "    axes[1].set_title(\"Mask\")\n",
        "    axes[1].axis(\"off\")\n",
        "\n",
        "    plt.tight_layout()\n",
        "    plt.savefig(out_path, dpi=200)\n",
        "    plt.close()\n",
        "\n",
        "print(f\"✅ Saved {len(sample_files)} patch pair visualizations to {OUTPUT_VIS_DIR}\")\n"
      ],
      "metadata": {
        "id": "8ofvtewpLdc_"
      },
      "execution_count": null,
      "outputs": []
    }
  ]
}