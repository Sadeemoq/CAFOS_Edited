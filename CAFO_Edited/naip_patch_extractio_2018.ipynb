{
  "nbformat": 4,
  "nbformat_minor": 0,
  "metadata": {
    "colab": {
      "provenance": []
    },
    "kernelspec": {
      "name": "python3",
      "display_name": "Python 3"
    },
    "language_info": {
      "name": "python"
    }
  },
  "cells": [
    {
      "cell_type": "markdown",
      "source": [
        "\n",
        "rasterio → read/write GeoTIFF images\n",
        "\n",
        "numpy → array operations\n",
        "\n",
        "Path → handle paths cleanly\n",
        "\n",
        "tqdm → progress bars\n"
      ],
      "metadata": {
        "id": "LuLoLibkI1N-"
      }
    },
    {
      "cell_type": "code",
      "execution_count": null,
      "metadata": {
        "id": "iSFR_nl6Iz_z"
      },
      "outputs": [],
      "source": [
        "# Libraries for handling raster data, arrays, and filesystem operations\n",
        "import rasterio\n",
        "import numpy as np\n",
        "from pathlib import Path\n",
        "import os\n",
        "from tqdm import tqdm\n"
      ]
    },
    {
      "cell_type": "markdown",
      "source": [
        "Keeps all paths and patch parameters in one place.\n",
        "\n",
        "mkdir(parents=True, exist_ok=True) ensures directories exist."
      ],
      "metadata": {
        "id": "eedPxLiwI7su"
      }
    },
    {
      "cell_type": "code",
      "source": [
        "# Base directory for your project (update to your machine/server path)\n",
        "BASE_PATH = Path(\"/kraken1nobackup/2025-CS489-509/drodriguez/ML\")\n",
        "\n",
        "# Directories for input tiles and predicted masks\n",
        "TILE_DIR = BASE_PATH / \"data/updated_naip_tiles_2018\"\n",
        "MASK_DIR = BASE_PATH / \"results/updated_chesapeake_predictions_2018/masks\"\n",
        "\n",
        "# Directories for storing extracted patches\n",
        "PATCH_DIR = BASE_PATH / \"patches\"\n",
        "PATCH_IMG_DIR = PATCH_DIR / \"images\"\n",
        "PATCH_MASK_DIR = PATCH_DIR / \"masks\"\n",
        "\n",
        "# Create directories if they do not exist\n",
        "PATCH_IMG_DIR.mkdir(parents=True, exist_ok=True)\n",
        "PATCH_MASK_DIR.mkdir(parents=True, exist_ok=True)\n",
        "\n",
        "# Patch configuration\n",
        "PATCH_SIZE = 512  # size of each patch\n",
        "STRIDE = PATCH_SIZE  # stride; change to < PATCH_SIZE for overlapping patches\n"
      ],
      "metadata": {
        "id": "TSGScalQI-AM"
      },
      "execution_count": null,
      "outputs": []
    },
    {
      "cell_type": "markdown",
      "source": [
        "This function handles all patch extraction and saving.\n",
        "\n",
        "Input: full tile image + mask.\n",
        "\n",
        "Output: multiple patches saved to disk."
      ],
      "metadata": {
        "id": "f1jK5NBIJAAm"
      }
    },
    {
      "cell_type": "code",
      "source": [
        "def extract_patches(image, mask, base_name):\n",
        "    \"\"\"\n",
        "    Extracts square patches from an RGB image and its mask.\n",
        "\n",
        "    Parameters:\n",
        "    - image: np.array of shape (C, H, W)\n",
        "    - mask: np.array of shape (H, W)\n",
        "    - base_name: string to use for patch filenames\n",
        "\n",
        "    Returns:\n",
        "    - count: total number of patches extracted\n",
        "    \"\"\"\n",
        "    h, w = image.shape[1:]  # image shape: (C, H, W)\n",
        "    count = 0\n",
        "    for i in range(0, h - PATCH_SIZE + 1, STRIDE):\n",
        "        for j in range(0, w - PATCH_SIZE + 1, STRIDE):\n",
        "            img_patch = image[:, i:i+PATCH_SIZE, j:j+PATCH_SIZE]\n",
        "            mask_patch = mask[i:i+PATCH_SIZE, j:j+PATCH_SIZE]\n",
        "\n",
        "            # Define output paths\n",
        "            img_out_path = PATCH_IMG_DIR / f\"{base_name}_patch_{count}.tif\"\n",
        "            mask_out_path = PATCH_MASK_DIR / f\"{base_name}_patch_{count}_mask.tif\"\n",
        "\n",
        "            # Save image patch\n",
        "            with rasterio.open(\n",
        "                img_out_path, \"w\",\n",
        "                driver=\"GTiff\",\n",
        "                height=PATCH_SIZE,\n",
        "                width=PATCH_SIZE,\n",
        "                count=3,\n",
        "                dtype=img_patch.dtype\n",
        "            ) as dst:\n",
        "                dst.write(img_patch)\n",
        "\n",
        "            # Save mask patch\n",
        "            with rasterio.open(\n",
        "                mask_out_path, \"w\",\n",
        "                driver=\"GTiff\",\n",
        "                height=PATCH_SIZE,\n",
        "                width=PATCH_SIZE,\n",
        "                count=1,\n",
        "                dtype=mask_patch.dtype\n",
        "            ) as dst:\n",
        "                dst.write(mask_patch, 1)\n",
        "\n",
        "            count += 1\n",
        "    return count\n"
      ],
      "metadata": {
        "id": "cy5kkrgUJCS1"
      },
      "execution_count": null,
      "outputs": []
    },
    {
      "cell_type": "markdown",
      "source": [
        "Loops over all tiles.\n",
        "\n",
        "Checks if a corresponding mask exists.\n",
        "\n",
        "Reads image and mask.\n",
        "\n",
        "Calls the patch extraction function.\n",
        "\n",
        "Prints progress and number of patches created."
      ],
      "metadata": {
        "id": "wuDZabrSJD7b"
      }
    },
    {
      "cell_type": "code",
      "source": [
        "# Get all tile paths\n",
        "tile_paths = sorted(TILE_DIR.glob(\"*.tif\"))\n",
        "\n",
        "# Loop through tiles\n",
        "for tile_path in tqdm(tile_paths, desc=\"Extracting patches\"):\n",
        "    base_name = tile_path.stem\n",
        "\n",
        "    # Match to mask file\n",
        "    mask_path = MASK_DIR / f\"{base_name}.tif\"\n",
        "    if not mask_path.exists():\n",
        "        print(f\"⚠️ Mask not found for {base_name}, skipping...\")\n",
        "        continue\n",
        "\n",
        "    # Read RGB image\n",
        "    with rasterio.open(tile_path) as img_src:\n",
        "        img = img_src.read([1, 2, 3])  # Channels: R, G, B\n",
        "\n",
        "    # Read mask\n",
        "    with rasterio.open(mask_path) as mask_src:\n",
        "        mask = mask_src.read(1)\n",
        "\n",
        "    # Extract and save patches\n",
        "    patch_count = extract_patches(img, mask, base_name)\n",
        "    print(f\"✅ {base_name}: {patch_count} patches\")\n"
      ],
      "metadata": {
        "id": "wv_PC6M5JHbb"
      },
      "execution_count": null,
      "outputs": []
    }
  ]
}