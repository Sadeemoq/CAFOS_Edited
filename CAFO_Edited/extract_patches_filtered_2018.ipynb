{
  "nbformat": 4,
  "nbformat_minor": 0,
  "metadata": {
    "colab": {
      "provenance": []
    },
    "kernelspec": {
      "name": "python3",
      "display_name": "Python 3"
    },
    "language_info": {
      "name": "python"
    }
  },
  "cells": [
    {
      "cell_type": "markdown",
      "source": [
        "\n",
        "\n",
        "rasterio → read/write GeoTIFF images\n",
        "\n",
        "numpy → array operations\n",
        "\n",
        "Path → manage paths easily\n",
        "\n",
        "tqdm → progress bar\n",
        "\n"
      ],
      "metadata": {
        "id": "NrpHLv9oKZLi"
      }
    },
    {
      "cell_type": "code",
      "execution_count": null,
      "metadata": {
        "id": "ViK2x8prKRXP"
      },
      "outputs": [],
      "source": [
        "import rasterio\n",
        "import numpy as np\n",
        "from pathlib import Path\n",
        "from tqdm import tqdm\n"
      ]
    },
    {
      "cell_type": "markdown",
      "source": [
        "Organizes all paths and patch settings in one place.\n",
        "\n",
        "Creates output directories if they do not exist."
      ],
      "metadata": {
        "id": "dHXvzpeFKfpx"
      }
    },
    {
      "cell_type": "code",
      "source": [
        "# Base project directory (update as needed)\n",
        "BASE_PATH = Path(\"/content/cafo_project\")\n",
        "\n",
        "# Input tiles and mask directories\n",
        "TILE_DIR = BASE_PATH / \"data/updated_naip_tiles_2018\"\n",
        "MASK_DIR = BASE_PATH / \"results/updated_chesapeake_predictions_2018/masks\"\n",
        "\n",
        "# Output patch directories\n",
        "PATCH_DIR = BASE_PATH / \"patches\"\n",
        "PATCH_IMG_DIR = PATCH_DIR / \"images\"\n",
        "PATCH_MASK_DIR = PATCH_DIR / \"masks\"\n",
        "PATCH_IMG_DIR.mkdir(parents=True, exist_ok=True)\n",
        "PATCH_MASK_DIR.mkdir(parents=True, exist_ok=True)\n",
        "\n",
        "# Patch parameters\n",
        "PATCH_SIZE = 512\n",
        "STRIDE = PATCH_SIZE  # no overlap; set < PATCH_SIZE for overlapping patches\n"
      ],
      "metadata": {
        "id": "FbBP9-NkKhfO"
      },
      "execution_count": null,
      "outputs": []
    },
    {
      "cell_type": "markdown",
      "source": [
        "Handles all patch extraction and saving.\n",
        "\n",
        "Skips patches with no CAFO presence.\n",
        "\n",
        "Returns numbers of saved and skipped patches."
      ],
      "metadata": {
        "id": "X-AxIrMWKjTM"
      }
    },
    {
      "cell_type": "code",
      "source": [
        "def extract_patches(image, mask, base_name):\n",
        "    \"\"\"\n",
        "    Extract square patches from an RGB image and mask.\n",
        "    Skips patches that are all background (mask=0).\n",
        "\n",
        "    Returns:\n",
        "    - count of patches saved\n",
        "    - count of patches skipped\n",
        "    \"\"\"\n",
        "    h, w = image.shape[1:]  # image shape: (C, H, W)\n",
        "    count = 0\n",
        "    skipped = 0\n",
        "\n",
        "    for i in range(0, h - PATCH_SIZE + 1, STRIDE):\n",
        "        for j in range(0, w - PATCH_SIZE + 1, STRIDE):\n",
        "            img_patch = image[:, i:i+PATCH_SIZE, j:j+PATCH_SIZE]\n",
        "            mask_patch = mask[i:i+PATCH_SIZE, j:j+PATCH_SIZE]\n",
        "\n",
        "            if np.all(mask_patch == 0):  # Skip all-background patches\n",
        "                skipped += 1\n",
        "                continue\n",
        "\n",
        "            # Paths to save patches\n",
        "            img_out_path = PATCH_IMG_DIR / f\"{base_name}_patch_{count}.tif\"\n",
        "            mask_out_path = PATCH_MASK_DIR / f\"{base_name}_patch_{count}_mask.tif\"\n",
        "\n",
        "            # Save image patch\n",
        "            with rasterio.open(\n",
        "                img_out_path, \"w\",\n",
        "                driver=\"GTiff\",\n",
        "                height=PATCH_SIZE,\n",
        "                width=PATCH_SIZE,\n",
        "                count=3,\n",
        "                dtype=img_patch.dtype\n",
        "            ) as dst:\n",
        "                dst.write(img_patch)\n",
        "\n",
        "            # Save mask patch\n",
        "            with rasterio.open(\n",
        "                mask_out_path, \"w\",\n",
        "                driver=\"GTiff\",\n",
        "                height=PATCH_SIZE,\n",
        "                width=PATCH_SIZE,\n",
        "                count=1,\n",
        "                dtype=mask_patch.dtype\n",
        "            ) as dst:\n",
        "                dst.write(mask_patch, 1)\n",
        "\n",
        "            count += 1\n",
        "\n",
        "    return count, skipped\n"
      ],
      "metadata": {
        "id": "rrMmfrktKmPc"
      },
      "execution_count": null,
      "outputs": []
    },
    {
      "cell_type": "markdown",
      "source": [
        "Loops over all tiles in the directory.\n",
        "\n",
        "Matches each tile to its corresponding mask.\n",
        "\n",
        "Calls extract_patches() and reports progress."
      ],
      "metadata": {
        "id": "CdPm43U5Knns"
      }
    },
    {
      "cell_type": "code",
      "source": [
        "# Get all tile paths\n",
        "tile_paths = sorted(TILE_DIR.glob(\"*.tif\"))\n",
        "\n",
        "# Loop through tiles and extract patches\n",
        "for tile_path in tqdm(tile_paths, desc=\"Extracting patches\"):\n",
        "    base_name = tile_path.stem\n",
        "    mask_path = MASK_DIR / f\"{base_name}.tif\"\n",
        "\n",
        "    if not mask_path.exists():\n",
        "        print(f\"⚠️ Mask not found for {base_name}, skipping...\")\n",
        "        continue\n",
        "\n",
        "    # Read RGB image\n",
        "    with rasterio.open(tile_path) as img_src:\n",
        "        img = img_src.read([1, 2, 3])\n",
        "\n",
        "    # Read mask\n",
        "    with rasterio.open(mask_path) as mask_src:\n",
        "        mask = mask_src.read(1)\n",
        "\n",
        "    # Extract patches\n",
        "    kept, skipped = extract_patches(img, mask, base_name)\n",
        "    print(f\"✅ {base_name}: {kept} patches saved, {skipped} skipped (all background)\")\n"
      ],
      "metadata": {
        "id": "UrVxl6nzKpmf"
      },
      "execution_count": null,
      "outputs": []
    }
  ]
}