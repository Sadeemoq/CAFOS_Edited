{
  "nbformat": 4,
  "nbformat_minor": 0,
  "metadata": {
    "colab": {
      "provenance": []
    },
    "kernelspec": {
      "name": "python3",
      "display_name": "Python 3"
    },
    "language_info": {
      "name": "python"
    }
  },
  "cells": [
    {
      "cell_type": "markdown",
      "source": [
        "Creates a folder to keep all project files organized.\n",
        "\n",
        "cd navigates into the project folder"
      ],
      "metadata": {
        "id": "DNBIGSodHN43"
      }
    },
    {
      "cell_type": "code",
      "execution_count": null,
      "metadata": {
        "id": "Um_FU9HXGaD0"
      },
      "outputs": [],
      "source": [
        "# Create a designated folder for the project\n",
        "mkdir -p ~/poultry-cafos\n",
        "cd ~/poultry-cafos\n"
      ]
    },
    {
      "cell_type": "markdown",
      "source": [
        "Downloads all code files from the Microsoft poultry-cafos repository into your project folder."
      ],
      "metadata": {
        "id": "SigDIC4THWvM"
      }
    },
    {
      "cell_type": "code",
      "source": [
        "# Clone the repository with code\n",
        "git clone https://github.com/microsoft/poultry-cafos.git .\n"
      ],
      "metadata": {
        "id": "I9rHkCd6HXcn"
      },
      "execution_count": null,
      "outputs": []
    },
    {
      "cell_type": "markdown",
      "source": [
        "Isolates all dependencies in a dedicated environment.\n",
        "\n",
        "Ensures your system Python doesn’t conflict with project packages."
      ],
      "metadata": {
        "id": "cKxAq_4uHdlC"
      }
    },
    {
      "cell_type": "code",
      "source": [
        "# Create an empty Conda environment called 'cafo'\n",
        "conda create --name cafo --no-default-packages\n",
        "\n",
        "# Activate the environment\n",
        "conda activate cafo\n"
      ],
      "metadata": {
        "id": "wygC-gCfHf7j"
      },
      "execution_count": null,
      "outputs": []
    },
    {
      "cell_type": "markdown",
      "source": [
        "Installs PyTorch, geospatial libraries, and scientific libraries needed for processing NAIP imagery and CAFO polygons."
      ],
      "metadata": {
        "id": "BGbXwJNbHhhO"
      }
    },
    {
      "cell_type": "code",
      "source": [
        "# Install Python 3.10\n",
        "conda install python=3.10 pip\n",
        "\n",
        "# Install PyTorch with GPU support\n",
        "conda install pytorch torchvision torchaudio pytorch-cuda=11.7 -c pytorch -c nvidia\n",
        "\n",
        "# Install geospatial and scientific packages\n",
        "conda install -c conda-forge rasterio fiona gdal geopandas shapely rtree\n",
        "conda install -c conda-forge scikit-image scikit-learn matplotlib pandas\n",
        "\n",
        "# Install Python packages via pip\n",
        "pip install segmentation-models-pytorch pystac-client planetary-computer\n"
      ],
      "metadata": {
        "id": "mKl2bDAAHkVR"
      },
      "execution_count": null,
      "outputs": []
    },
    {
      "cell_type": "markdown",
      "source": [],
      "metadata": {
        "id": "IIkNh-YgHZgg"
      }
    },
    {
      "cell_type": "markdown",
      "source": [
        "# Go to the ScienceBase link:\n",
        "https://www.sciencebase.gov/catalog/item/5e0a3fcde4b0b207aa0d794e\n",
        "\n",
        "# Download the file named:\n",
        "Delmarva_PL_House_Final.zip\n",
        "\n",
        "# Move the downloaded file into your working directory (poultry-cafos folder)\n"
      ],
      "metadata": {
        "id": "na8x2Jr_HpmI"
      }
    },
    {
      "cell_type": "markdown",
      "source": [
        "Unzips the CAFO shapefile.\n",
        "\n",
        "Converts it to GeoJSON in three coordinate systems for different analysis purposes:\n",
        "\n",
        "EPSG:4326 → WGS84 (lat/lon).\n",
        "\n",
        "EPSG:32618 → UTM Zone 18N.\n",
        "\n",
        "EPSG:26918 → NAD83 / UTM Zone 18N."
      ],
      "metadata": {
        "id": "XaKlmWs-Huqa"
      }
    },
    {
      "cell_type": "code",
      "source": [
        "# Activate the Conda environment first\n",
        "conda activate cafo\n",
        "\n",
        "# Unzip the downloaded file\n",
        "unzip Delmarva_PL_House_Final.zip -d data/\n",
        "\n",
        "# Convert shapefile to GeoJSON in different coordinate systems\n",
        "ogr2ogr -f GeoJSON -t_srs epsg:4326 data/Delmarva_PL_House_Final2_epsg4326.geojson data/Delmarva_PL_House_Final2.shp\n",
        "ogr2ogr -f GeoJSON -t_srs epsg:32618 data/Delmarva_PL_House_Final2_epsg32618.geojson data/Delmarva_PL_House_Final2.shp\n",
        "ogr2ogr -f GeoJSON -t_srs epsg:26918 data/Delmarva_PL_House_Final2_epsg26918.geojson data/Delmarva_PL_House_Final2.shp\n"
      ],
      "metadata": {
        "id": "lMAAAlQIHvxm"
      },
      "execution_count": null,
      "outputs": []
    },
    {
      "cell_type": "markdown",
      "source": [],
      "metadata": {
        "id": "R6F7Y4ipHNiY"
      }
    },
    {
      "cell_type": "markdown",
      "source": [
        "Confirms that the three generated GeoJSON files are present in the data/ folder."
      ],
      "metadata": {
        "id": "JSqj_g6wH1v_"
      }
    },
    {
      "cell_type": "code",
      "source": [
        "# Make sure the converted GeoJSON files are in the data folder\n",
        "ls data/\n"
      ],
      "metadata": {
        "id": "_u6EgsmVH2XW"
      },
      "execution_count": null,
      "outputs": []
    }
  ]
}