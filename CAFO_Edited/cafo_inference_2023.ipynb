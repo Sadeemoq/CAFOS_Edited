{
  "nbformat": 4,
  "nbformat_minor": 0,
  "metadata": {
    "colab": {
      "provenance": []
    },
    "kernelspec": {
      "name": "python3",
      "display_name": "Python 3"
    },
    "language_info": {
      "name": "python"
    }
  },
  "cells": [
    {
      "cell_type": "markdown",
      "source": [
        "Imports libraries for filesystem operations, deep learning inference, geospatial reading/writing, and progress tracking."
      ],
      "metadata": {
        "id": "LRoTX1ceOivy"
      }
    },
    {
      "cell_type": "code",
      "execution_count": null,
      "metadata": {
        "id": "GOE0Nz3SN-Pb"
      },
      "outputs": [],
      "source": [
        "import os\n",
        "from pathlib import Path\n",
        "import numpy as np\n",
        "import torch\n",
        "import rasterio\n",
        "import segmentation_models_pytorch as smp\n",
        "from tqdm import tqdm\n"
      ]
    },
    {
      "cell_type": "markdown",
      "source": [
        "Defines paths for model, input tiles, and output predictions.\n",
        "\n",
        "Sets GPU/CPU device.\n",
        "\n",
        "Ensures the output directory exists."
      ],
      "metadata": {
        "id": "nsJdLP06OlyK"
      }
    },
    {
      "cell_type": "code",
      "source": [
        "# --- Paths ---\n",
        "MODEL_PATH = \"PATH_TO_YOUR_MODEL/cafo_multi_patch.pt\"        # Path to your trained PyTorch model (.pt)\n",
        "INPUT_DIR = \"PATH_TO_YOUR_INPUT_TILES\"                       # Folder containing NAIP tile images (.tif)\n",
        "OUTPUT_DIR = \"PATH_TO_SAVE_PREDICTIONS\"                      # Folder to save predicted mask images\n",
        "\n",
        "# --- Device ---\n",
        "DEVICE = \"cuda\" if torch.cuda.is_available() else \"cpu\"\n",
        "\n",
        "# --- Make sure output folder exists ---\n",
        "os.makedirs(OUTPUT_DIR, exist_ok=True)"
      ],
      "metadata": {
        "id": "QcEyEcfhOmBJ"
      },
      "execution_count": null,
      "outputs": []
    },
    {
      "cell_type": "markdown",
      "source": [
        "Loads your pretrained segmentation model and moves it to GPU/CPU.\n",
        "\n",
        "Sets model to evaluation mode."
      ],
      "metadata": {
        "id": "WRObZahDPFDQ"
      }
    },
    {
      "cell_type": "code",
      "source": [
        "# Load the trained U-Net model\n",
        "model = smp.Unet(encoder_name=\"resnet18\", encoder_weights=None, in_channels=3, classes=1)\n",
        "model.load_state_dict(torch.load(MODEL_PATH, map_location=DEVICE))\n",
        "model.to(DEVICE)\n",
        "model.eval()\n",
        "\n",
        "print(\"✅ Model loaded and ready for inference.\")\n"
      ],
      "metadata": {
        "id": "3mA1q1GfPFb7"
      },
      "execution_count": null,
      "outputs": []
    },
    {
      "cell_type": "markdown",
      "source": [
        "Loops over all input tiles.\n",
        "\n",
        "Reads each tile with rasterio and normalizes it.\n",
        "\n",
        "Converts to tensor for model inference.\n",
        "\n",
        "Runs forward pass and binarizes output.\n",
        "\n",
        "Saves prediction to a GeoTIFF, keeping CRS and transform intact."
      ],
      "metadata": {
        "id": "lFII17RLPKJY"
      }
    },
    {
      "cell_type": "code",
      "source": [
        "# Get all input tiles\n",
        "tile_paths = sorted(Path(INPUT_DIR).glob(\"*.tif\"))\n",
        "\n",
        "for tile_path in tqdm(tile_paths, desc=\"Running inference\"):\n",
        "    with rasterio.open(tile_path) as src:\n",
        "        image = src.read([1,2,3]).astype(np.float32) / 255.0  # Normalize\n",
        "        transform = src.transform\n",
        "        crs = src.crs\n",
        "\n",
        "    # Convert to tensor: add batch dimension\n",
        "    image_tensor = torch.from_numpy(image).unsqueeze(0).to(DEVICE)\n",
        "\n",
        "    # Forward pass\n",
        "    with torch.no_grad():\n",
        "        prediction = model(image_tensor).squeeze().cpu().numpy()\n",
        "\n",
        "    # Binarize prediction (0/1)\n",
        "    prediction_binary = (prediction > 0.5).astype(np.uint8)\n",
        "\n",
        "    # Save as GeoTIFF\n",
        "    out_path = Path(OUTPUT_DIR) / f\"{tile_path.stem}_prediction.tif\"\n",
        "    with rasterio.open(\n",
        "        out_path,\n",
        "        \"w\",\n",
        "        driver=\"GTiff\",\n",
        "        height=prediction_binary.shape[0],\n",
        "        width=prediction_binary.shape[1],\n",
        "        count=1,\n",
        "        dtype=rasterio.uint8,\n",
        "        crs=crs,\n",
        "        transform=transform,\n",
        "    ) as dst:\n",
        "        dst.write(prediction_binary, 1)\n"
      ],
      "metadata": {
        "id": "S6cHjbzYPMVQ"
      },
      "execution_count": null,
      "outputs": []
    },
    {
      "cell_type": "markdown",
      "source": [
        "Prints a final message indicating completion."
      ],
      "metadata": {
        "id": "fe1niCn4PUe9"
      }
    },
    {
      "cell_type": "code",
      "source": [
        "print(f\"✅ Inference complete. Predictions saved to: {OUTPUT_DIR}\")\n"
      ],
      "metadata": {
        "id": "jwTJzp6_PW7M"
      },
      "execution_count": null,
      "outputs": []
    }
  ]
}