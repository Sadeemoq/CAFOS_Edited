{
  "nbformat": 4,
  "nbformat_minor": 0,
  "metadata": {
    "colab": {
      "provenance": []
    },
    "kernelspec": {
      "name": "python3",
      "display_name": "Python 3"
    },
    "language_info": {
      "name": "python"
    }
  },
  "cells": [
    {
      "cell_type": "markdown",
      "source": [
        "Imports all necessary packages for geospatial data, NAIP imagery, and deep learning workflows.\n",
        "\n"
      ],
      "metadata": {
        "id": "CA1kN0-HMwCc"
      }
    },
    {
      "cell_type": "code",
      "execution_count": null,
      "metadata": {
        "id": "IU0VAriiMtun"
      },
      "outputs": [],
      "source": [
        "# Standard libraries\n",
        "import os\n",
        "import traceback\n",
        "from pathlib import Path\n",
        "from urllib.parse import unquote\n",
        "\n",
        "# Data handling\n",
        "import pandas as pd\n",
        "import numpy as np\n",
        "import geopandas as gpd\n",
        "from shapely.geometry import shape\n",
        "\n",
        "# Remote sensing and imagery\n",
        "import rasterio\n",
        "from rasterio.windows import from_bounds\n",
        "from PIL import Image\n",
        "\n",
        "# Deep learning\n",
        "import torch\n",
        "import segmentation_models_pytorch as smp\n",
        "import torch.nn.functional as F\n",
        "import torchvision.transforms.functional as TF\n",
        "\n",
        "# STAC and Planetary Computer\n",
        "from pystac_client import Client\n",
        "from planetary_computer import sign"
      ]
    },
    {
      "cell_type": "markdown",
      "source": [
        "Sets the bounding box, years, and tile range.\n",
        "\n",
        "Defines all necessary paths.\n",
        "\n",
        "Creates directories if they don’t exist.\n",
        "\n",
        "Determines whether to use GPU."
      ],
      "metadata": {
        "id": "VAfYG3Z5Mzy9"
      }
    },
    {
      "cell_type": "code",
      "source": [
        "# Tile selection\n",
        "START_TILE = 3\n",
        "END_TILE = 4\n",
        "BBOX = [-77.5, 36.8, -75.0, 39.8]  # Chesapeake Bay\n",
        "YEARS = \"2022-01-01/2023-12-31\"\n",
        "\n",
        "# Base paths (change these to match your system)\n",
        "BASE_PATH = Path(\"/content/cafo_project\")\n",
        "TILE_DIR = BASE_PATH / \"data/updated_naip_tiles_2023\"\n",
        "SPLIT_DIR = BASE_PATH / \"data/splits\"\n",
        "OUTPUT_DIR = BASE_PATH / \"results/updated_chesapeake_predictions_2018\"\n",
        "INDEX_PATH = BASE_PATH / \"data/naip_tile_index_2018.geojson\"\n",
        "CAFO_LABELS_PATH = BASE_PATH / \"data/Delmarva_PL_House_Final2_epsg4326.geojson\"\n",
        "MODEL_PATH = BASE_PATH / \"weights/cafo_model.pt\"\n",
        "\n",
        "# Device\n",
        "DEVICE = \"cuda\" if torch.cuda.is_available() else \"cpu\"\n",
        "\n",
        "# Create directories if missing\n",
        "TILE_DIR.mkdir(parents=True, exist_ok=True)\n",
        "SPLIT_DIR.mkdir(parents=True, exist_ok=True)\n",
        "OUTPUT_DIR.mkdir(parents=True, exist_ok=True)\n"
      ],
      "metadata": {
        "id": "v5UDKKCRM0LX"
      },
      "execution_count": null,
      "outputs": []
    },
    {
      "cell_type": "markdown",
      "source": [
        "\n",
        "Loads CAFO polygons from GeoJSON.\n",
        "\n",
        "Displays the first few rows to verify.\n",
        "\n"
      ],
      "metadata": {
        "id": "vYulCY00M30Y"
      }
    },
    {
      "cell_type": "code",
      "source": [
        "print(\"📦 Loading CAFO labels...\")\n",
        "labels = gpd.read_file(CAFO_LABELS_PATH)\n",
        "labels.head()\n",
        "\n"
      ],
      "metadata": {
        "id": "L5h8DqqnM4Iq"
      },
      "execution_count": null,
      "outputs": []
    },
    {
      "cell_type": "markdown",
      "source": [
        "\n",
        "Queries Microsoft Planetary Computer STAC API.\n",
        "\n",
        "Retrieves all tiles in the specified bbox and years.\n",
        "\n"
      ],
      "metadata": {
        "id": "N2pLXKvZM9RK"
      }
    },
    {
      "cell_type": "code",
      "source": [
        "print(\"🌐 Querying Planetary Computer STAC API for NAIP tiles...\")\n",
        "catalog = Client.open(\"https://planetarycomputer.microsoft.com/api/stac/v1\")\n",
        "search = catalog.search(\n",
        "    collections=[\"naip\"],\n",
        "    bbox=BBOX,\n",
        "    datetime=YEARS\n",
        ")\n",
        "items = list(search.get_items())\n",
        "print(f\"🔍 Found {len(items)} NAIP tiles.\")\n"
      ],
      "metadata": {
        "id": "yYuYKMDNM9fi"
      },
      "execution_count": null,
      "outputs": []
    },
    {
      "cell_type": "markdown",
      "source": [
        "Converts STAC items to a GeoDataFrame with geometry and URLs.\n",
        "\n",
        "Saves to a GeoJSON tile index for later reference."
      ],
      "metadata": {
        "id": "T5Mv8VknNBz1"
      }
    },
    {
      "cell_type": "code",
      "source": [
        "tile_geoms, tile_urls = [], []\n",
        "\n",
        "for item in items:\n",
        "    signed_item = sign(item)\n",
        "    geom = shape(signed_item.geometry)\n",
        "    tile_geoms.append(geom)\n",
        "    tile_urls.append(signed_item.assets[\"image\"].href)\n",
        "\n",
        "tiles_gdf = gpd.GeoDataFrame({\"tile_url\": tile_urls}, geometry=tile_geoms, crs=\"EPSG:4326\")\n",
        "tiles_gdf.to_file(INDEX_PATH)\n",
        "print(f\"✅ Saved tile index to {INDEX_PATH}\")\n"
      ],
      "metadata": {
        "id": "ae3ITawsNBdu"
      },
      "execution_count": null,
      "outputs": []
    },
    {
      "cell_type": "markdown",
      "source": [
        "Filters NAIP tiles that intersect with CAFO polygons.\n",
        "\n",
        "Selects a subset using START_TILE and END_TILE."
      ],
      "metadata": {
        "id": "fNz3biETNFKa"
      }
    },
    {
      "cell_type": "code",
      "source": [
        "print(\"🔍 Filtering for tiles overlapping CAFO polygons...\")\n",
        "overlap = gpd.sjoin(tiles_gdf, labels, how=\"inner\", predicate=\"intersects\")\n",
        "overlap = overlap.drop_duplicates(subset=\"tile_url\")\n",
        "\n",
        "selected_tiles = overlap[\"tile_url\"].iloc[START_TILE:END_TILE]\n",
        "selected_geoms = overlap[\"geometry\"].iloc[START_TILE:END_TILE]\n",
        "\n",
        "print(f\"✅ Found {len(overlap)} overlapping tiles with CAFOs.\")\n"
      ],
      "metadata": {
        "id": "m0I9zW_-NFeU"
      },
      "execution_count": null,
      "outputs": []
    },
    {
      "cell_type": "markdown",
      "source": [
        "Iterates over selected tiles, downloads them, and crops to geometry bounds.\n",
        "\n",
        "Saves as GeoTIFF.\n",
        "\n",
        "Uses try/except to catch any download errors."
      ],
      "metadata": {
        "id": "jcr6FZNcNJic"
      }
    },
    {
      "cell_type": "code",
      "source": [
        "print(f\"⬇️ Downloading tiles {START_TILE} to {END_TILE - 1}...\")\n",
        "\n",
        "for i, (url, geom) in enumerate(zip(selected_tiles, selected_geoms), start=START_TILE):\n",
        "    try:\n",
        "        signed_url = sign(url)\n",
        "        with rasterio.open(signed_url) as src:\n",
        "            geom_proj = gpd.GeoSeries([geom], crs=\"EPSG:4326\").to_crs(src.crs)\n",
        "            bounds = geom_proj.total_bounds\n",
        "            window = from_bounds(*bounds, transform=src.transform)\n",
        "            profile = src.profile.copy()\n",
        "            profile.update({\n",
        "                \"height\": int(window.height),\n",
        "                \"width\": int(window.width),\n",
        "                \"transform\": rasterio.windows.transform(window, src.transform),\n",
        "            })\n",
        "\n",
        "            tile_path = TILE_DIR / f\"tile_{i}.tif\"\n",
        "            with rasterio.open(tile_path, \"w\", **profile) as dst:\n",
        "                for b in range(1, src.count + 1):\n",
        "                    dst.write(src.read(b, window=window), b)\n",
        "\n",
        "        print(f\"✅ Saved tile {i} to {tile_path}\")\n",
        "\n",
        "    except Exception as e:\n",
        "        print(f\"❌ Failed to download tile {i}: {e}\")\n",
        "        traceback.print_exc()\n"
      ],
      "metadata": {
        "id": "P0C2CqyLNJyq"
      },
      "execution_count": null,
      "outputs": []
    }
  ]
}