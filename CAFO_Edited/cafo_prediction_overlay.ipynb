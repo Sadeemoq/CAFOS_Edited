{
  "nbformat": 4,
  "nbformat_minor": 0,
  "metadata": {
    "colab": {
      "provenance": []
    },
    "kernelspec": {
      "name": "python3",
      "display_name": "Python 3"
    },
    "language_info": {
      "name": "python"
    }
  },
  "cells": [
    {
      "cell_type": "markdown",
      "source": [
        "rasterio for reading .tif tiles and masks.\n",
        "\n",
        "numpy for array operations.\n",
        "\n",
        "imageio to save PNG overlays.\n",
        "\n",
        "Path for easy file handling."
      ],
      "metadata": {
        "id": "Vylj6S3JPume"
      }
    },
    {
      "cell_type": "code",
      "source": [
        "# ================================\n",
        "# IMPORT LIBRARIES\n",
        "# ================================\n",
        "import matplotlib.pyplot as plt\n",
        "import rasterio\n",
        "import numpy as np\n",
        "from pathlib import Path\n",
        "import imageio\n"
      ],
      "metadata": {
        "id": "9C5bqeiTPxxY"
      },
      "execution_count": null,
      "outputs": []
    },
    {
      "cell_type": "markdown",
      "source": [
        "Set the folders for:\n",
        "\n",
        "Your input RGB tiles (TILE_DIR)\n",
        "\n",
        "Prediction masks (PRED_DIR)\n",
        "\n",
        "Where overlays will be saved (OUTPUT_DIR)"
      ],
      "metadata": {
        "id": "OaYXBWOqPzc6"
      }
    },
    {
      "cell_type": "code",
      "source": [
        "# ================================\n",
        "# CONFIGURATION\n",
        "# ================================\n",
        "# Update these paths to your folders\n",
        "TILE_DIR = Path(\"PATH_TO_YOUR_INPUT_TILES\")      # Folder with original RGB tiles\n",
        "PRED_DIR = Path(\"PATH_TO_YOUR_PREDICTIONS\")     # Folder with prediction masks\n",
        "OUTPUT_DIR = PRED_DIR                           # Folder to save overlay PNGs\n",
        "\n",
        "# Create output folder if it doesn't exist\n",
        "OUTPUT_DIR.mkdir(parents=True, exist_ok=True)\n"
      ],
      "metadata": {
        "id": "kWWamOPEP2zc"
      },
      "execution_count": null,
      "outputs": []
    },
    {
      "cell_type": "markdown",
      "source": [
        "Finds all .tif files in your input folder.\n",
        "\n",
        "Sorts them to keep consistent order.\n",
        "\n",
        "Prints how many tiles will be processed."
      ],
      "metadata": {
        "id": "V5udFKwGP2iQ"
      }
    },
    {
      "cell_type": "code",
      "source": [
        "# ================================\n",
        "# GET LIST OF TILES\n",
        "# ================================\n",
        "# Collect all RGB tile file paths\n",
        "tile_paths = sorted(TILE_DIR.glob(\"*.tif\"))\n",
        "\n",
        "print(f\"Found {len(tile_paths)} tiles to process.\")\n"
      ],
      "metadata": {
        "id": "vCa_R-9JP6sP"
      },
      "execution_count": null,
      "outputs": []
    },
    {
      "cell_type": "markdown",
      "source": [
        "Reads each RGB tile and its corresponding mask.\n",
        "\n",
        "Converts RGB tile to [0-1] float array.\n",
        "\n",
        "Overlays red [1,0,0] where the mask predicts a CAFO.\n",
        "\n",
        "Converts back to uint8 (0–255) for PNG.\n",
        "\n",
        "Saves PNG overlay in the output folder."
      ],
      "metadata": {
        "id": "F-YmpBafQLBW"
      }
    },
    {
      "cell_type": "code",
      "source": [
        "# ================================\n",
        "# PROCESS TILES AND CREATE OVERLAYS\n",
        "# ================================\n",
        "for tile_path in tile_paths:\n",
        "    # Prediction mask path for this tile\n",
        "    pred_path = PRED_DIR / f\"{tile_path.stem}_prediction.tif\"\n",
        "    # Output PNG path\n",
        "    overlay_path = OUTPUT_DIR / f\"{tile_path.stem}_overlay.png\"\n",
        "\n",
        "    print(f\"Processing {tile_path.name} → Saving overlay to {overlay_path.name}\")\n",
        "\n",
        "    # --- Load RGB tile ---\n",
        "    with rasterio.open(tile_path) as src:\n",
        "        rgb = src.read([1, 2, 3]).transpose(1, 2, 0).astype(np.float32) / 255.0  # H x W x 3\n",
        "\n",
        "    # --- Load prediction mask ---\n",
        "    with rasterio.open(pred_path) as src:\n",
        "        mask = src.read(1)  # H x W binary\n",
        "\n",
        "    # --- Overlay mask in red ---\n",
        "    overlay = rgb.copy()\n",
        "    overlay[mask == 1] = [1, 0, 0]  # Red color for predicted CAFOs\n",
        "\n",
        "    # --- Convert to uint8 for saving ---\n",
        "    overlay_uint8 = (overlay * 255).astype(np.uint8)\n",
        "\n",
        "    # --- Save overlay ---\n",
        "    imageio.imwrite(overlay_path, overlay_uint8)\n"
      ],
      "metadata": {
        "id": "BGNMYDudQNvW"
      },
      "execution_count": null,
      "outputs": []
    },
    {
      "cell_type": "markdown",
      "source": [
        "Simple confirmation that all overlays were processed and saved."
      ],
      "metadata": {
        "id": "nyMXGVPSQQ5v"
      }
    },
    {
      "cell_type": "code",
      "source": [
        "\n",
        "print(f\"✅ All overlays saved to {OUTPUT_DIR}\")\n"
      ],
      "metadata": {
        "id": "11L93vADQRnm"
      },
      "execution_count": null,
      "outputs": []
    },
    {
      "cell_type": "markdown",
      "source": [],
      "metadata": {
        "id": "p2xpOxz4QT6s"
      }
    }
  ]
}