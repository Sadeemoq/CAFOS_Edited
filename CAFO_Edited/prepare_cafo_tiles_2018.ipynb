{
  "nbformat": 4,
  "nbformat_minor": 0,
  "metadata": {
    "colab": {
      "provenance": []
    },
    "kernelspec": {
      "name": "python3",
      "display_name": "Python 3"
    },
    "language_info": {
      "name": "python"
    }
  },
  "cells": [
    {
      "cell_type": "markdown",
      "source": [
        "#These are all the Python libraries needed:\n",
        "\n",
        "geopandas for handling CAFO polygons.\n",
        "\n",
        "rasterio for working with raster/NAIP tiles.\n",
        "\n",
        "pystac_client and planetary_computer to query and sign NAIP tiles.\n",
        "\n",
        "Path and typing.List for path management and type hints."
      ],
      "metadata": {
        "id": "vZPdwSHmE_gN"
      }
    },
    {
      "cell_type": "code",
      "execution_count": null,
      "metadata": {
        "id": "Geccg3NdElGE"
      },
      "outputs": [],
      "source": [
        "import traceback\n",
        "from pathlib import Path\n",
        "from typing import List\n",
        "import geopandas as gpd\n",
        "import rasterio\n",
        "from rasterio.windows import from_bounds\n",
        "from shapely.geometry import shape\n",
        "from pystac_client import Client\n",
        "from planetary_computer import sign\n"
      ]
    },
    {
      "cell_type": "markdown",
      "source": [
        "Set your workspace folder and all paths.\n",
        "\n",
        "TILE_DIR: where NAIP tiles will be saved.\n",
        "\n",
        "INDEX_PATH: saves a GeoJSON index of all tiles.\n",
        "\n",
        "CAFO_LABELS_PATH: your CAFO polygons file.\n",
        "\n",
        "mkdir ensures the directories exist before saving tiles."
      ],
      "metadata": {
        "id": "p03a0zfRFENc"
      }
    },
    {
      "cell_type": "code",
      "source": [
        "# ==== CONFIGURATION ====\n",
        "START_TILE = 3\n",
        "END_TILE = 4\n",
        "BBOX = [-77.5, 36.8, -75.0, 39.8]  # Chesapeake Bay bounding box\n",
        "YEARS = \"2018-01-01/2018-12-31\"    # NAIP tiles time range\n",
        "\n",
        "# ==== PATHS ====\n",
        "BASE_PATH = Path(\"/content/cafo_project\")  # Workspace folder\n",
        "TILE_DIR = BASE_PATH / \"data/tiles_2018\"   # Downloaded tiles\n",
        "INDEX_PATH = BASE_PATH / \"data/naip_tile_index_2018.geojson\"  # Tile index\n",
        "CAFO_LABELS_PATH = BASE_PATH / \"data/cafo_labels.geojson\"      # CAFO polygons\n",
        "TILE_DIR.mkdir(parents=True, exist_ok=True)\n"
      ],
      "metadata": {
        "id": "W6T4WTowFHqw"
      },
      "execution_count": null,
      "outputs": []
    },
    {
      "cell_type": "markdown",
      "source": [
        "Loads CAFO polygons from your GeoJSON file into a GeoDataFrame."
      ],
      "metadata": {
        "id": "7OfiMIOsFo5p"
      }
    },
    {
      "cell_type": "code",
      "source": [
        "def query_naip_tiles(bbox: List[float], years: str) -> List:\n",
        "    \"\"\"Query NAIP tiles from Planetary Computer STAC API.\"\"\"\n",
        "    print(\"Querying NAIP tiles...\")\n",
        "    catalog = Client.open(\"https://planetarycomputer.microsoft.com/api/stac/v1\")\n",
        "    items = list(catalog.search(collections=[\"naip\"], bbox=bbox, datetime=years).get_items())\n",
        "    print(f\"Found {len(items)} NAIP tiles.\")\n",
        "    return items\n",
        "\n",
        "# Query NAIP tiles\n",
        "items = query_naip_tiles(BBOX, YEARS)\n"
      ],
      "metadata": {
        "id": "oIjSjX2VF2mN"
      },
      "execution_count": null,
      "outputs": []
    },
    {
      "cell_type": "markdown",
      "source": [
        "Connects to Planetary Computer STAC API.\n",
        "\n",
        "Retrieves NAIP tiles in the specified bounding box and date range."
      ],
      "metadata": {
        "id": "8HY51VqaF79M"
      }
    },
    {
      "cell_type": "code",
      "source": [
        "def create_tiles_gdf(items: List) -> gpd.GeoDataFrame:\n",
        "    \"\"\"Convert STAC items to GeoDataFrame with signed URLs.\"\"\"\n",
        "    urls, geoms = [], []\n",
        "    for item in items:\n",
        "        s = sign(item)\n",
        "        geoms.append(shape(s.geometry))\n",
        "        urls.append(s.assets[\"image\"].href)\n",
        "    return gpd.GeoDataFrame({\"tile_url\": urls}, geometry=geoms, crs=\"EPSG:4326\")\n",
        "\n",
        "tiles_gdf = create_tiles_gdf(items)\n",
        "tiles_gdf.to_file(INDEX_PATH)  # Save tile index\n"
      ],
      "metadata": {
        "id": "hRU3CBQ_FoKF"
      },
      "execution_count": null,
      "outputs": []
    },
    {
      "cell_type": "markdown",
      "source": [
        "Keeps only tiles that intersect with CAFO polygons.\n",
        "\n",
        "Limits selection for testing or batching with START_TILE and END_TILE."
      ],
      "metadata": {
        "id": "9ljAPqCCGBWT"
      }
    },
    {
      "cell_type": "code",
      "source": [
        "def download_tiles(urls: List[str], geoms: List, tile_dir: Path, start_idx: int):\n",
        "    \"\"\"Download selected NAIP tiles and crop to CAFO polygons.\"\"\"\n",
        "    for i, (url, geom) in enumerate(zip(urls, geoms), start=start_idx):\n",
        "        try:\n",
        "            signed_url = sign(url)\n",
        "            with rasterio.open(signed_url) as src:\n",
        "                geom_proj = gpd.GeoSeries([geom], crs=\"EPSG:4326\").to_crs(src.crs)\n",
        "                bounds = geom_proj.total_bounds\n",
        "                window = from_bounds(*bounds, transform=src.transform)\n",
        "                profile = src.profile.copy()\n",
        "                profile.update({\n",
        "                    \"height\": int(window.height),\n",
        "                    \"width\": int(window.width),\n",
        "                    \"transform\": rasterio.windows.transform(window, src.transform)\n",
        "                })\n",
        "                path = tile_dir / f\"tile_{i}.tif\"\n",
        "                with rasterio.open(path, \"w\", **profile) as dst:\n",
        "                    for b in range(1, src.count + 1):\n",
        "                        dst.write(src.read(b, window=window), b)\n",
        "            print(f\"Saved tile {i} to {path}\")\n",
        "        except Exception as e:\n",
        "            print(f\"Failed tile {i}: {e}\")\n",
        "            traceback.print_exc()\n",
        "\n",
        "# Download tiles\n",
        "download_tiles(urls, geoms, TILE_DIR, START_TILE)\n"
      ],
      "metadata": {
        "id": "Xb-r2oygGCMc"
      },
      "execution_count": null,
      "outputs": []
    },
    {
      "cell_type": "markdown",
      "source": [],
      "metadata": {
        "id": "a7soRbknGBOB"
      }
    }
  ]
}