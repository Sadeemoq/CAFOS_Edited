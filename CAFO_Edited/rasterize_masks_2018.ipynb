{
  "nbformat": 4,
  "nbformat_minor": 0,
  "metadata": {
    "colab": {
      "provenance": []
    },
    "kernelspec": {
      "name": "python3",
      "display_name": "Python 3"
    },
    "language_info": {
      "name": "python"
    }
  },
  "cells": [
    {
      "cell_type": "markdown",
      "source": [
        "geopandas → read and manipulate polygon data\n",
        "\n",
        "rasterio → read/write raster (GeoTIFF) data\n",
        "\n",
        "rasterize → convert polygons to raster masks\n",
        "\n",
        "Path → handle file paths cleanly\n",
        "\n",
        "tqdm → progress bars\n",
        "\n",
        "numpy → array operations"
      ],
      "metadata": {
        "id": "IBqU1o69JhJ5"
      }
    },
    {
      "cell_type": "code",
      "source": [
        "import geopandas as gpd\n",
        "import rasterio\n",
        "from rasterio.features import rasterize\n",
        "from pathlib import Path\n",
        "import numpy as np\n",
        "from tqdm import tqdm\n"
      ],
      "metadata": {
        "id": "ewkxeg0eJg82"
      },
      "execution_count": null,
      "outputs": []
    },
    {
      "cell_type": "markdown",
      "source": [
        "Path Configuration\n",
        "Organizes all paths in one place.\n",
        "\n",
        "Creates the mask output directory if it doesn’t exist."
      ],
      "metadata": {
        "id": "EN_BK-iVJmVk"
      }
    },
    {
      "cell_type": "code",
      "source": [
        "# Base project directory (update to your machine/server path)\n",
        "BASE_PATH = Path(\"/content/cafo_project\")\n",
        "\n",
        "# Input NAIP tiles and output mask directory\n",
        "TILE_DIR = BASE_PATH / \"data/updated_naip_tiles_2018\"\n",
        "OUTPUT_MASK_DIR = BASE_PATH / \"results/updated_chesapeake_predictions_2018/masks\"\n",
        "OUTPUT_MASK_DIR.mkdir(parents=True, exist_ok=True)\n",
        "\n",
        "# Path to poultry barn GeoJSON file\n",
        "LABELS_PATH = Path(\"/home/grad20/drodriguez/ML/poultry-cafos/data/Delmarva_PL_House_Final2_epsg4326.geojson\")\n"
      ],
      "metadata": {
        "id": "0URdNqNcJrBB"
      },
      "execution_count": null,
      "outputs": []
    },
    {
      "cell_type": "markdown",
      "source": [
        "Reads the GeoJSON polygons.\n",
        "\n",
        "Sets the coordinate reference system (CRS) to match the tiles."
      ],
      "metadata": {
        "id": "Wgb1qnr3J3Fy"
      }
    },
    {
      "cell_type": "code",
      "source": [
        "# Load poultry barn polygons\n",
        "print(\"📦 Loading poultry barn polygons...\")\n",
        "barns = gpd.read_file(LABELS_PATH)\n",
        "barns = barns.to_crs(\"EPSG:4326\")  # Ensure CRS matches the NAIP tiles\n"
      ],
      "metadata": {
        "id": "Z9UT6w3ZJ5_9"
      },
      "execution_count": null,
      "outputs": []
    },
    {
      "cell_type": "markdown",
      "source": [
        "Converts polygons into binary masks.\n",
        "\n",
        "Ensures masks match tile size, CRS, and alignment.\n",
        "\n",
        "Handles tiles with no overlapping polygons."
      ],
      "metadata": {
        "id": "E_eHgR05J7U-"
      }
    },
    {
      "cell_type": "code",
      "source": [
        "def rasterize_tile_mask(tile_path, barns_gdf, out_path):\n",
        "    \"\"\"\n",
        "    Convert polygons to a binary mask aligned with a raster tile.\n",
        "    \"\"\"\n",
        "    with rasterio.open(tile_path) as src:\n",
        "        transform = src.transform\n",
        "        out_shape = (src.height, src.width)\n",
        "        tile_crs = src.crs\n",
        "        bounds = src.bounds\n",
        "\n",
        "        # Reproject barns to tile CRS and clip to tile bounds\n",
        "        barns_projected = barns_gdf.to_crs(tile_crs)\n",
        "        from shapely.geometry import box\n",
        "        tile_bounds_geom = box(*bounds)\n",
        "        barns_clipped = barns_projected.clip(tile_bounds_geom)\n",
        "\n",
        "        # Create mask: 1 where polygons exist, 0 elsewhere\n",
        "        if barns_clipped.empty:\n",
        "            mask = np.zeros(out_shape, dtype=np.uint8)\n",
        "        else:\n",
        "            mask = rasterize(\n",
        "                [(geom, 1) for geom in barns_clipped.geometry],\n",
        "                out_shape=out_shape,\n",
        "                transform=transform,\n",
        "                fill=0,\n",
        "                dtype=np.uint8\n",
        "            )\n",
        "\n",
        "        # Save mask\n",
        "        meta = src.meta.copy()\n",
        "        meta.update({\"count\": 1, \"dtype\": \"uint8\"})\n",
        "        with rasterio.open(out_path, \"w\", **meta) as dst:\n",
        "            dst.write(mask, 1)\n"
      ],
      "metadata": {
        "id": "l57TxpciJ9p7"
      },
      "execution_count": null,
      "outputs": []
    },
    {
      "cell_type": "markdown",
      "source": [
        "Loops over all tiles.\n",
        "\n",
        "Calls the rasterization function for each tile.\n",
        "\n",
        "Saves masks in the output directory with the same name as the original tile."
      ],
      "metadata": {
        "id": "a3nhUPXdJ_dx"
      }
    },
    {
      "cell_type": "code",
      "source": [
        "# Get all NAIP tiles\n",
        "tile_paths = sorted(TILE_DIR.glob(\"*.tif\"))\n",
        "print(f\"🗺️ Found {len(tile_paths)} tiles to process...\")\n",
        "\n",
        "# Rasterize each tile\n",
        "for tile_path in tqdm(tile_paths, desc=\"Rasterizing masks\"):\n",
        "    tile_name = tile_path.name\n",
        "    mask_path = OUTPUT_MASK_DIR / tile_name  # same name as tile\n",
        "    rasterize_tile_mask(tile_path, barns, mask_path)\n",
        "\n",
        "print(\"\\n✅ Rasterization complete. Binary masks saved to:\", OUTPUT_MASK_DIR)\n"
      ],
      "metadata": {
        "id": "ziCsLeOFKBym"
      },
      "execution_count": null,
      "outputs": []
    },
    {
      "cell_type": "markdown",
      "source": [],
      "metadata": {
        "id": "U2qzgXkSKDue"
      }
    }
  ]
}